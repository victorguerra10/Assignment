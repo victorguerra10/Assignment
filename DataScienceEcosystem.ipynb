{
 "cells": [
  {
   "cell_type": "markdown",
   "id": "e1fce4b8-0fa3-4a09-87bb-652f48341989",
   "metadata": {},
   "source": [
    "# Data Science Tools and Ecosystem"
   ]
  },
  {
   "cell_type": "markdown",
   "id": "be4ead77-3dbb-4e2b-a7e2-ec85ff5065cc",
   "metadata": {},
   "source": [
    "# In this notebook, Data Science Tools and Ecosystem are summarized"
   ]
  },
  {
   "cell_type": "markdown",
   "id": "a9ac6047-47d7-4d68-b102-593e467748be",
   "metadata": {},
   "source": [
    "# Some of the popular languages that Data Scientists use are:\n",
    "\n",
    "1. Python.\n",
    "2. R.\n",
    "3. SQL."
   ]
  },
  {
   "cell_type": "markdown",
   "id": "de580770-5cc1-468f-bad8-55b0064b03eb",
   "metadata": {},
   "source": [
    "**Objectives**\n",
    "\n",
    "* List popular languages for Data Science.\n",
    "* List popular libraries for Data Science.\n",
    "* Evaluating arithmetic expressions in Python."
   ]
  },
  {
   "cell_type": "markdown",
   "id": "bff37778-42b2-4ac5-b3fa-d0ef004d8cea",
   "metadata": {},
   "source": [
    "# Some of the commonly used libraries used by Data Scientists include:\n",
    "\n",
    "1. Pandas.\n",
    "2. Seaborn.\n",
    "3. Matplotlib.\n",
    "4. Numpy."
   ]
  },
  {
   "cell_type": "markdown",
   "id": "51d089c6-398e-45ff-942a-f3630c99f63a",
   "metadata": {},
   "source": [
    "| Data Science Tools |\n",
    "| ------------------ |\n",
    "| Jupyter Notebook |\n",
    "| Spyder |\n",
    "| Google Colab |"
   ]
  },
  {
   "cell_type": "markdown",
   "id": "10bc328b-8d3f-4b8f-b009-52c422905ee8",
   "metadata": {},
   "source": [
    "### Below are a few examples of evaluating arithmetic expressions in Python:"
   ]
  },
  {
   "cell_type": "code",
   "execution_count": 2,
   "id": "b42cb7f6-2b84-4e6f-95b2-8d6c5874ad75",
   "metadata": {},
   "outputs": [
    {
     "data": {
      "text/plain": [
       "17"
      ]
     },
     "execution_count": 2,
     "metadata": {},
     "output_type": "execute_result"
    }
   ],
   "source": [
    "# This is a simple arithmetic expression to multiply then add integers\n",
    "(3*4)+5"
   ]
  },
  {
   "cell_type": "code",
   "execution_count": 3,
   "id": "00b01d07-d784-4c5c-b08a-111be60fb096",
   "metadata": {},
   "outputs": [
    {
     "data": {
      "text/plain": [
       "3.3333333333333335"
      ]
     },
     "execution_count": 3,
     "metadata": {},
     "output_type": "execute_result"
    }
   ],
   "source": [
    "# This will convert 200 minutes to hours by dividing by 60\n",
    "200/60"
   ]
  },
  {
   "cell_type": "markdown",
   "id": "aa7af03d-8ab3-4e92-a9b8-a27444b26b06",
   "metadata": {},
   "source": [
    "## Author\n",
    "Victor Manuel Guerra Montoya"
   ]
  },
  {
   "cell_type": "code",
   "execution_count": null,
   "id": "ae5ff16f-6906-463a-afaf-108e91b266c2",
   "metadata": {},
   "outputs": [],
   "source": []
  }
 ],
 "metadata": {
  "kernelspec": {
   "display_name": "Python 3 (ipykernel)",
   "language": "python",
   "name": "python3"
  },
  "language_info": {
   "codemirror_mode": {
    "name": "ipython",
    "version": 3
   },
   "file_extension": ".py",
   "mimetype": "text/x-python",
   "name": "python",
   "nbconvert_exporter": "python",
   "pygments_lexer": "ipython3",
   "version": "3.12.9"
  }
 },
 "nbformat": 4,
 "nbformat_minor": 5
}
